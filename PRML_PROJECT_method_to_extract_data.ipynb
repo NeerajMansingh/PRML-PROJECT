{
  "nbformat": 4,
  "nbformat_minor": 0,
  "metadata": {
    "colab": {
      "provenance": [],
      "authorship_tag": "ABX9TyPid1jY4WTzlCH+k1I/nHRn",
      "include_colab_link": true
    },
    "kernelspec": {
      "name": "python3",
      "display_name": "Python 3"
    },
    "language_info": {
      "name": "python"
    }
  },
  "cells": [
    {
      "cell_type": "markdown",
      "metadata": {
        "id": "view-in-github",
        "colab_type": "text"
      },
      "source": [
        "<a href=\"https://colab.research.google.com/github/NeerajMansingh/PRML-PROJECT/blob/main/PRML_PROJECT_method_to_extract_data.ipynb\" target=\"_parent\"><img src=\"https://colab.research.google.com/assets/colab-badge.svg\" alt=\"Open In Colab\"/></a>"
      ]
    },
    {
      "cell_type": "code",
      "execution_count": 3,
      "metadata": {
        "colab": {
          "base_uri": "https://localhost:8080/",
          "height": 610
        },
        "id": "wqsOfeymoF8l",
        "outputId": "ceaf65ed-74c0-4414-be40-954199e2adb1"
      },
      "outputs": [
        {
          "output_type": "stream",
          "name": "stdout",
          "text": [
            "Cloning into 'PRML-PROJECT'...\n",
            "remote: Enumerating objects: 32, done.\u001b[K\n",
            "remote: Counting objects: 100% (32/32), done.\u001b[K\n",
            "remote: Compressing objects: 100% (21/21), done.\u001b[K\n",
            "remote: Total 32 (delta 5), reused 17 (delta 1), pack-reused 0 (from 0)\u001b[K\n",
            "Receiving objects: 100% (32/32), 6.42 KiB | 6.42 MiB/s, done.\n",
            "Resolving deltas: 100% (5/5), done.\n",
            "Filtering content: 100% (6/6), 177.59 MiB | 71.34 MiB/s, done.\n",
            "[154 126 105 ... 139 142 144]\n",
            "9\n"
          ]
        },
        {
          "output_type": "display_data",
          "data": {
            "text/plain": [
              "<Figure size 640x480 with 1 Axes>"
            ],
            "image/png": "[encoded data removed]"
          },
          "metadata": {}
        }
      ],
      "source": [
        "import pickle\n",
        "import numpy as np\n",
        "import os\n",
        "\n",
        "# Clone the GitHub repository\n",
        "!git clone https://github.com/NeerajMansingh/PRML-PROJECT.git\n",
        "\n",
        "# ********BLACK BOX************************************************************************************\n",
        "\n",
        "def unpickle(file):\n",
        "    with open(file, 'rb') as fo:\n",
        "        dict = pickle.load(fo, encoding='bytes')\n",
        "    return dict\n",
        "\n",
        "# Path to the CIFAR-10 batches folder\n",
        "path = \"/content/PRML-PROJECT/Downloads/cifar_extracted/cifar-10-batches-py\"   # **CHANGE FILE NAME**\n",
        "\n",
        "# Load all batch files and combine data\n",
        "data_train = []      # **FLATTENED RGB FOR EACH PHOTO STORED HERE**\n",
        "labels_train = []    # **THEIR CORRESPONDING LABELS**\n",
        "\n",
        "for i in range(1, 6):  # There are 5 batch files: data_batch_1 to data_batch_5\n",
        "    batch_file = os.path.join(path, f\"data_batch_{i}\")\n",
        "    batch = unpickle(batch_file)\n",
        "    data_train.append(batch[b'data'])\n",
        "    labels_train.extend(batch[b'labels'])\n",
        "\n",
        "# Convert to numpy arrays\n",
        "data_train = np.concatenate(data_train)    # **FLATTENED RGB FOR EACH PHOTO STORED HERE** [50000 x 3072]  , (32*32*3 = 3072)\n",
        "labels_train = np.array(labels_train)      # **THEIR CORRESPONDING LABELS** [    say for flattened array [32,5,0,2,1,..... 213,40] (=> ie, 3072 elements) the label is 5    ]\n",
        "\n",
        "# ********BLACK BOX************************************************************************************\n",
        "\n",
        "print(data_train[1])    # 2nd picture\n",
        "print(labels_train[1])  # 2nd picture label\n",
        "\n",
        "# ********BLACK BOX TO SHOW PICTURE. REMOVE THIS AS THIS IS ONLY FOR EXAMPLE.************************************************************************************\n",
        "import matplotlib.pyplot as plt\n",
        "\n",
        "# Reshape the 2nd image (index 1) from flattened (3072,) to (32, 32, 3)\n",
        "image = data_train[1].reshape(3, 32, 32).transpose(1, 2, 0)  # Transpose to (32, 32, 3)\n",
        "label = labels_train[1]  # 2nd image's label\n",
        "\n",
        "plt.imshow(image)\n",
        "plt.title(f\"Label: {label}\")\n",
        "plt.axis('off')  # Hide the axis for better view\n",
        "plt.show()\n",
        "# ********BLACK BOX************************************************************************************\n"
      ]
    },
    {
      "cell_type": "code",
      "source": [],
      "metadata": {
        "id": "Y1uLz_jdoPdi"
      },
      "execution_count": null,
      "outputs": []
    }
  ]
}